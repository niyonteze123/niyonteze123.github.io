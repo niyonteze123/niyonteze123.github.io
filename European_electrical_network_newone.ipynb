{
 "cells": [
  {
   "cell_type": "code",
   "execution_count": 1,
   "metadata": {},
   "outputs": [
    {
     "data": {
      "text/plain": [
       "'/home/michel/Desktop/note of m1/Python programming/TENSILE PROJECT'"
      ]
     },
     "execution_count": 1,
     "metadata": {},
     "output_type": "execute_result"
    }
   ],
   "source": [
    "import os\n",
    "os.getcwd()"
   ]
  },
  {
   "cell_type": "markdown",
   "metadata": {},
   "source": [
    "# Project title: European electrical network\n",
    "\n",
    "### Description\n",
    "\n",
    "In this project we are going to look at the electricity production of a part of the European countries. We are going to use the data containing the time series of the “power imbalance” for the month of January 2017 of a number of European countries. \n",
    "\n",
    "For this project we will have to study the graph of the European electrical network. For this we\n",
    "will first study the following graph:"
   ]
  },
  {
   "cell_type": "markdown",
   "metadata": {},
   "source": [
    "<img src=\"Elc.png\" width=\"250\" height=\"250\">"
   ]
  },
  {
   "cell_type": "markdown",
   "metadata": {},
   "source": [
    "### The first step in any python program is importing necessary modules/libraries into the code."
   ]
  },
  {
   "cell_type": "code",
   "execution_count": 2,
   "metadata": {},
   "outputs": [],
   "source": [
    "import numpy as np\n",
    "import pandas as pd\n",
    "import networkx as nx\n",
    "import matplotlib.pyplot as plt\n",
    "%matplotlib inline"
   ]
  },
  {
   "cell_type": "markdown",
   "metadata": {},
   "source": [
    "### 1. Construct the adjacency matrix of the graph defined above. In graph theory the adjacency matrix is a symmetric square matrix. The elements of this matrix indicate which pair of nodes are adjacent in the graph.\n",
    "\n",
    "#### adjacent matrixdimensional array that shows whether there is a relationship between two objects\n",
    "\n"
   ]
  },
  {
   "cell_type": "code",
   "execution_count": 3,
   "metadata": {},
   "outputs": [
    {
     "name": "stdout",
     "output_type": "stream",
     "text": [
      "The adjacent matrix M is:\n",
      "\n",
      " [[0 1 0 0 0 0]\n",
      " [1 0 1 0 1 1]\n",
      " [0 1 0 1 1 0]\n",
      " [0 0 1 0 1 0]\n",
      " [0 1 1 1 0 1]\n",
      " [0 1 0 0 1 0]]\n"
     ]
    }
   ],
   "source": [
    "# G = (V,E) Graph with vertices/nodes V and edges/arcs E\n",
    "\n",
    "from collections import namedtuple # Importing a factory function for creating tuple subclasses from the module \"collections\"\n",
    "\"\"\" name tuples are great  for creating blueprints  that can use to instantiate new\n",
    "object we can use tuple but we prefer to use named tuples instead because it is fast \n",
    "With namedtuples you don’t have to use integer indexes for accessing members of a tuple\"\"\"\n",
    "\n",
    "\n",
    "\n",
    "Graph = namedtuple(\"Graph\", [\"nodes\", \"edges\"]) # Creating our graph/network\n",
    "\n",
    "\"\"\" we start to assigning a named tuple to the named graph  with capital G\n",
    "the  first we have to pass to namedtuples is a string containing the name\n",
    "of of type which for us just graph with capital G, next thing we have to pass to namedtuple\n",
    "is a string or an iterable containg  the field names, now we prefer to us\n",
    "a terable like a list with strings containg the field names these will be \n",
    "the names  of the components of the tuple for the graph that would be vertices\n",
    "and edge\"\"\"\n",
    "\n",
    "nodes = [0, 1, 2, 3, 4, 5]\n",
    "edges = [(0, 1), (1,2), (1, 4), (1, 5), (2,3), (2, 4), (3, 4), (4,5)]\n",
    "\n",
    "G = Graph(nodes, edges) # Our given european electrical network\n",
    "\n",
    "# print(G) # Printing our european electrical network\n",
    "\n",
    "def adjacency_matrix(graph): # This function will take only one parameter a graph\n",
    "    \"\"\"\n",
    "    Return the adjacency matrix of the graph.\n",
    "    \n",
    "    \"\"\"\n",
    "    \n",
    "    Matrix = [[0 for node in graph.nodes] for node in graph.nodes] # Initialization of our matrix with zeros\n",
    "    \"\"\" we will  use a python list to represent   the adjecency matrix\n",
    "     and ti will assign it to variable  colled matrix since the adjacency \n",
    "     is two_dimensional array each element  of this list will be another list\n",
    "     representing each row in the adjacency matrix, we need one for each node in \n",
    "     in the graph it's going to be really useful to initialize each entry in matrix  with zero.\"\"\"  \n",
    "    \n",
    "    \n",
    "    \n",
    "    \n",
    "    for edge in graph.edges:# let's loop each edge of the graph add the values\n",
    "        #as necessary\n",
    "        \"\"\"  the first thing we will do is to extract  the two nodes in the edge \n",
    "        and assign them to variables colled \"i\" node \"j\" in order to record this\n",
    "        edge in the adjacency matrix we need to add 1 to the  0 in the row \n",
    "        corresponding to \"i\" and the column corresponding  to \"j\".\n",
    "         \"\"\"\n",
    "        i = edge[0]             # First node/vertice of each edge\n",
    "        j = edge[1]             # Second node/vertice of each edge\n",
    "        Matrix[i][j] += 1       # Updating our matrix by forward edge direction\n",
    "        Matrix[j][i] += 1       # Updating our matrix by backward edge direction\n",
    "        \n",
    "    return np.array(Matrix)     # Returning our matrix as an array.\n",
    "\n",
    "graph = G\n",
    "\n",
    "adjacency_matrix = adjacency_matrix(graph) \n",
    "\n",
    "print('The adjacent matrix M is:\\n\\n', adjacency_matrix)\n",
    "   "
   ]
  },
  {
   "cell_type": "markdown",
   "metadata": {},
   "source": [
    "### 2. Determine the degree, denoted $k_n$, of each node in the graph. In graph theory the degree of a node is the number of segments connecting this node.\n",
    "###### In few word we can define degree of node as the sum of each row in adjecent matrix\n"
   ]
  },
  {
   "cell_type": "code",
   "execution_count": 4,
   "metadata": {},
   "outputs": [
    {
     "name": "stdout",
     "output_type": "stream",
     "text": [
      "Node 0 has degree 1\n",
      "Node 1 has degree 4\n",
      "Node 2 has degree 3\n",
      "Node 3 has degree 2\n",
      "Node 4 has degree 4\n",
      "Node 5 has degree 2\n",
      "\n",
      "#####################################################\n",
      "\n",
      "List of degree for each node kn =  [1, 4, 3, 2, 4, 2]\n"
     ]
    }
   ],
   "source": [
    "def degree(graph):   # Function with input graph and return a list of degree for each node (0,1,2,3,4,5)\n",
    "    kn = []# initialize empty list\n",
    "    for i in range(adjacency_matrix.shape[0]):\n",
    "        degree = np.sum(adjacency_matrix[i])\n",
    "        kn.append(degree)\n",
    "        print('Node',i, 'has degree', kn[i])\n",
    "    return kn\n",
    "\n",
    "graph = G\n",
    "\n",
    "degree_kn = degree(adjacency_matrix)\n",
    "\n",
    "print(\"\\n#####################################################\\n\")\n",
    "\n",
    "print(\"List of degree for each node kn = \", degree_kn)\n"
   ]
  },
  {
   "cell_type": "markdown",
   "metadata": {},
   "source": [
    "### 3. Determine the incidence matrix $K$ of the graph. We will assume that the segments are always oriented from the lowest value node to the highest value node (nodes 2 to 3 and not 3 to 2). The incidence matrix in graph theory is defined as a matrix $n \\times m$ with $n$ the number of nodes and $m$ the number of segments. This matrix is such that $k_{ij}= 1$  and $k_{ji}= 0$ if node $i$ and segment $j$ are linked and $0$ otherwise.\n",
    "\n",
    "##### For incident matrix we consider both cases  where $k_{ij}= 1$  and $k_{ji}= 0$.\n",
    "\n",
    "\n",
    "\n",
    "\n",
    "\n",
    "\n",
    "\n"
   ]
  },
  {
   "cell_type": "code",
   "execution_count": 5,
   "metadata": {},
   "outputs": [
    {
     "name": "stdout",
     "output_type": "stream",
     "text": [
      "The incidence matrix K:\n",
      "\n",
      " [[1. 0. 0. 0. 0. 0. 0. 0.]\n",
      " [0. 1. 1. 1. 0. 0. 0. 0.]\n",
      " [0. 0. 0. 0. 1. 1. 0. 0.]\n",
      " [0. 0. 0. 0. 0. 0. 1. 0.]\n",
      " [0. 0. 0. 0. 0. 0. 0. 1.]\n",
      " [0. 0. 0. 0. 0. 0. 0. 0.]]\n"
     ]
    }
   ],
   "source": [
    "def incidence_matrix1(graph):  \n",
    "    \"\"\"\n",
    "    Input a graph\n",
    "    \n",
    "    Return the incidence matrix of the graph.\n",
    "\n",
    "    \"\"\" \n",
    "\n",
    "    assert all(i in graph.nodes and j in graph.nodes for i, j in graph.edges) \n",
    "\n",
    "    incidence_matrix_K = np.zeros([max(graph.nodes)+1, len(graph.edges)]) # Initialization of incidence matrix K (With size #V by #E) with zeros\n",
    "    \n",
    "    for k, edge in enumerate(graph.edges): \n",
    "        i, j = edge\n",
    "        incidence_matrix_K[i][k] = 1\n",
    "        incidence_matrix_K[j][k] = 0\n",
    "    return incidence_matrix_K\n",
    "\n",
    "graph = G\n",
    "\n",
    "K = incidence_matrix1(graph)\n",
    "\n",
    "print('The incidence matrix K:\\n\\n', K)"
   ]
  },
  {
   "cell_type": "markdown",
   "metadata": {},
   "source": [
    "### 3. Determine the incidence matrix $K$ of the graph. We will assume that the segments are always oriented from the lowest value node to the highest value node (nodes 2 to 3 and not 3 to 2). The incidence matrix in graph theory is defined as a matrix $n \\times m$ with $n$ the number of nodes and $m$ the number of segments. This matrix is such that $k_{ij}= 1$  and $k_{ji}= -1$ if node $i$ and segment $j$ are linked and $0$ otherwise.\n",
    "\n",
    "##### Here we preferred to consider $k_{ij}= 1$  and $k_{ji}= -1$  because  for the case $k_{ij}= 1$  and $k_{ji}=0$ we got the matrix which has that last column of zero entries  and it's invertible\n"
   ]
  },
  {
   "cell_type": "code",
   "execution_count": 6,
   "metadata": {},
   "outputs": [
    {
     "name": "stdout",
     "output_type": "stream",
     "text": [
      "The incidence matrix K:\n",
      "\n",
      " [[ 1.  0.  0.  0.  0.  0.  0.  0.]\n",
      " [-1.  1.  1.  1.  0.  0.  0.  0.]\n",
      " [ 0. -1.  0.  0.  1.  1.  0.  0.]\n",
      " [ 0.  0.  0.  0. -1.  0.  1.  0.]\n",
      " [ 0.  0. -1.  0.  0. -1. -1.  1.]\n",
      " [ 0.  0.  0. -1.  0.  0.  0. -1.]]\n"
     ]
    }
   ],
   "source": [
    "def incidence_matrix(graph):  \n",
    "    \"\"\"\n",
    "    Input a graph\n",
    "    \n",
    "    Return the incidence matrix of the graph.\n",
    "\n",
    "    \"\"\" \n",
    "\n",
    "    assert all(i in graph.nodes and j in graph.nodes for i, j in graph.edges) \n",
    "\n",
    "    incidence_matrix_K = np.zeros([max(graph.nodes)+1, len(graph.edges)]) # Initialization of incidence matrix K (With size #V by #E) with zeros\n",
    "    \n",
    "    for k, edge in enumerate(graph.edges): \n",
    "        i, j = edge\n",
    "        incidence_matrix_K[i][k] = 1\n",
    "        incidence_matrix_K[j][k] = -1\n",
    "    return incidence_matrix_K\n",
    "\n",
    "graph = G\n",
    "\n",
    "K = incidence_matrix(graph)\n",
    "\n",
    "print('The incidence matrix K:\\n\\n', K)"
   ]
  },
  {
   "cell_type": "markdown",
   "metadata": {},
   "source": [
    "### 4. Define the Laplacian of the graph. The Laplacian of the graph is defined in two ways:\n",
    "\n",
    "- 4.1 $L = K*K^T$\n",
    "\n",
    "- 4.2 The difference between the diagonal matrix of the degrees of the nodes (the kn of question 2 put on a diagonal matrix) and the adjacency matrix."
   ]
  },
  {
   "cell_type": "markdown",
   "metadata": {},
   "source": [
    "  #### 4.1 $L = K*K^T$"
   ]
  },
  {
   "cell_type": "code",
   "execution_count": 7,
   "metadata": {},
   "outputs": [
    {
     "name": "stdout",
     "output_type": "stream",
     "text": [
      "Laplacian of the graph is L =\n",
      "\n",
      " [[ 1. -1.  0.  0.  0.  0.]\n",
      " [-1.  4. -1.  0. -1. -1.]\n",
      " [ 0. -1.  3. -1. -1.  0.]\n",
      " [ 0.  0. -1.  2. -1.  0.]\n",
      " [ 0. -1. -1. -1.  4. -1.]\n",
      " [ 0. -1.  0.  0. -1.  2.]]\n"
     ]
    }
   ],
   "source": [
    "L = K @ K.T\n",
    "print(\"Laplacian of the graph is L =\\n\\n\", L)"
   ]
  },
  {
   "cell_type": "markdown",
   "metadata": {},
   "source": [
    "#### 4.2 The difference between the diagonal matrix of the degrees of the nodes (the kn of question 2 put on a diagonal matrix) and the adjacency matrix."
   ]
  },
  {
   "cell_type": "code",
   "execution_count": 8,
   "metadata": {},
   "outputs": [
    {
     "name": "stdout",
     "output_type": "stream",
     "text": [
      "Laplacian of the graph is L =\n",
      "\n",
      " [[ 1 -1  0  0  0  0]\n",
      " [-1  4 -1  0 -1 -1]\n",
      " [ 0 -1  3 -1 -1  0]\n",
      " [ 0  0 -1  2 -1  0]\n",
      " [ 0 -1 -1 -1  4 -1]\n",
      " [ 0 -1  0  0 -1  2]]\n"
     ]
    }
   ],
   "source": [
    "D = np.diag(np.array(degree_kn)) # Diagonal matrix of the degrees of the nodes\n",
    "L1 = D - adjacency_matrix\n",
    "print(\"Laplacian of the graph is L =\\n\\n\", L1)"
   ]
  },
  {
   "cell_type": "code",
   "execution_count": 9,
   "metadata": {},
   "outputs": [
    {
     "data": {
      "text/plain": [
       "array([[ True,  True,  True,  True,  True,  True],\n",
       "       [ True,  True,  True,  True,  True,  True],\n",
       "       [ True,  True,  True,  True,  True,  True],\n",
       "       [ True,  True,  True,  True,  True,  True],\n",
       "       [ True,  True,  True,  True,  True,  True],\n",
       "       [ True,  True,  True,  True,  True,  True]])"
      ]
     },
     "execution_count": 9,
     "metadata": {},
     "output_type": "execute_result"
    }
   ],
   "source": [
    "L == L1 # Testing both methods "
   ]
  },
  {
   "cell_type": "markdown",
   "metadata": {},
   "source": [
    "## 5. We will now identify the nodes of our graph to some European countries 0=DK, 1=DE, 2=CH, 3=IT, 4=AT, 5=CZ . The power flow between countries can then be defined as follows:\n",
    "\n",
    "$p_i = \\sum_j \\tilde{L}_{i,j}\\theta_j$ et $f_l = \\frac{1}{x_l}\\sum_i K_{i,l}\\theta_i$, where $\\tilde{L}_{i,j} = \\sum_l K_{i,l}\\frac{1}{x_l}K_{j,l}$\n",
    "\n",
    "is the weighted Laplacian matrix. To simplify the problem we will assume that $x_l=1$. From the data provided in the imbalance.csv file determine the values of $\\theta_j$ for the first hour of January 1, 2017 and the values of $f$ . For this, we will make the assumption that $\\theta_0=0$."
   ]
  },
  {
   "cell_type": "code",
   "execution_count": 10,
   "metadata": {},
   "outputs": [
    {
     "data": {
      "text/html": [
       "<div>\n",
       "<style scoped>\n",
       "    .dataframe tbody tr th:only-of-type {\n",
       "        vertical-align: middle;\n",
       "    }\n",
       "\n",
       "    .dataframe tbody tr th {\n",
       "        vertical-align: top;\n",
       "    }\n",
       "\n",
       "    .dataframe thead th {\n",
       "        text-align: right;\n",
       "    }\n",
       "</style>\n",
       "<table border=\"1\" class=\"dataframe\">\n",
       "  <thead>\n",
       "    <tr style=\"text-align: right;\">\n",
       "      <th></th>\n",
       "      <th>DateTime</th>\n",
       "      <th>DK</th>\n",
       "      <th>DE</th>\n",
       "      <th>CH</th>\n",
       "      <th>IT</th>\n",
       "      <th>AT</th>\n",
       "      <th>CZ</th>\n",
       "    </tr>\n",
       "  </thead>\n",
       "  <tbody>\n",
       "    <tr>\n",
       "      <th>0</th>\n",
       "      <td>2017-01-01 00:00:00</td>\n",
       "      <td>-79.73</td>\n",
       "      <td>3486.25</td>\n",
       "      <td>-3403.37</td>\n",
       "      <td>-97.5</td>\n",
       "      <td>-2867.33</td>\n",
       "      <td>2961.68</td>\n",
       "    </tr>\n",
       "    <tr>\n",
       "      <th>1</th>\n",
       "      <td>2017-01-01 01:00:00</td>\n",
       "      <td>-109.14</td>\n",
       "      <td>4248.17</td>\n",
       "      <td>-3829.59</td>\n",
       "      <td>-105.9</td>\n",
       "      <td>-3149.98</td>\n",
       "      <td>2946.44</td>\n",
       "    </tr>\n",
       "    <tr>\n",
       "      <th>2</th>\n",
       "      <td>2017-01-01 02:00:00</td>\n",
       "      <td>-101.49</td>\n",
       "      <td>5314.56</td>\n",
       "      <td>-4131.66</td>\n",
       "      <td>-199.2</td>\n",
       "      <td>-3646.87</td>\n",
       "      <td>2764.66</td>\n",
       "    </tr>\n",
       "    <tr>\n",
       "      <th>3</th>\n",
       "      <td>2017-01-01 03:00:00</td>\n",
       "      <td>-197.96</td>\n",
       "      <td>5450.71</td>\n",
       "      <td>-4009.61</td>\n",
       "      <td>-656.0</td>\n",
       "      <td>-3345.56</td>\n",
       "      <td>2758.42</td>\n",
       "    </tr>\n",
       "    <tr>\n",
       "      <th>4</th>\n",
       "      <td>2017-01-01 04:00:00</td>\n",
       "      <td>-526.15</td>\n",
       "      <td>5695.72</td>\n",
       "      <td>-3924.43</td>\n",
       "      <td>-646.2</td>\n",
       "      <td>-3393.12</td>\n",
       "      <td>2794.18</td>\n",
       "    </tr>\n",
       "    <tr>\n",
       "      <th>...</th>\n",
       "      <td>...</td>\n",
       "      <td>...</td>\n",
       "      <td>...</td>\n",
       "      <td>...</td>\n",
       "      <td>...</td>\n",
       "      <td>...</td>\n",
       "      <td>...</td>\n",
       "    </tr>\n",
       "    <tr>\n",
       "      <th>739</th>\n",
       "      <td>2017-01-31 19:00:00</td>\n",
       "      <td>589.65</td>\n",
       "      <td>3452.07</td>\n",
       "      <td>-958.44</td>\n",
       "      <td>-1462.5</td>\n",
       "      <td>-2182.67</td>\n",
       "      <td>561.89</td>\n",
       "    </tr>\n",
       "    <tr>\n",
       "      <th>740</th>\n",
       "      <td>2017-01-31 20:00:00</td>\n",
       "      <td>592.88</td>\n",
       "      <td>5087.10</td>\n",
       "      <td>-1680.11</td>\n",
       "      <td>-2055.7</td>\n",
       "      <td>-2891.40</td>\n",
       "      <td>947.23</td>\n",
       "    </tr>\n",
       "    <tr>\n",
       "      <th>741</th>\n",
       "      <td>2017-01-31 21:00:00</td>\n",
       "      <td>595.62</td>\n",
       "      <td>5905.14</td>\n",
       "      <td>-2259.94</td>\n",
       "      <td>-1816.4</td>\n",
       "      <td>-3520.59</td>\n",
       "      <td>1096.17</td>\n",
       "    </tr>\n",
       "    <tr>\n",
       "      <th>742</th>\n",
       "      <td>2017-01-31 22:00:00</td>\n",
       "      <td>590.15</td>\n",
       "      <td>6165.33</td>\n",
       "      <td>-2518.73</td>\n",
       "      <td>-1846.7</td>\n",
       "      <td>-3665.70</td>\n",
       "      <td>1275.65</td>\n",
       "    </tr>\n",
       "    <tr>\n",
       "      <th>743</th>\n",
       "      <td>2017-01-31 23:00:00</td>\n",
       "      <td>586.33</td>\n",
       "      <td>6893.40</td>\n",
       "      <td>-2648.03</td>\n",
       "      <td>-2588.8</td>\n",
       "      <td>-3189.62</td>\n",
       "      <td>946.72</td>\n",
       "    </tr>\n",
       "  </tbody>\n",
       "</table>\n",
       "<p>744 rows × 7 columns</p>\n",
       "</div>"
      ],
      "text/plain": [
       "                DateTime      DK       DE       CH      IT       AT       CZ\n",
       "0    2017-01-01 00:00:00  -79.73  3486.25 -3403.37   -97.5 -2867.33  2961.68\n",
       "1    2017-01-01 01:00:00 -109.14  4248.17 -3829.59  -105.9 -3149.98  2946.44\n",
       "2    2017-01-01 02:00:00 -101.49  5314.56 -4131.66  -199.2 -3646.87  2764.66\n",
       "3    2017-01-01 03:00:00 -197.96  5450.71 -4009.61  -656.0 -3345.56  2758.42\n",
       "4    2017-01-01 04:00:00 -526.15  5695.72 -3924.43  -646.2 -3393.12  2794.18\n",
       "..                   ...     ...      ...      ...     ...      ...      ...\n",
       "739  2017-01-31 19:00:00  589.65  3452.07  -958.44 -1462.5 -2182.67   561.89\n",
       "740  2017-01-31 20:00:00  592.88  5087.10 -1680.11 -2055.7 -2891.40   947.23\n",
       "741  2017-01-31 21:00:00  595.62  5905.14 -2259.94 -1816.4 -3520.59  1096.17\n",
       "742  2017-01-31 22:00:00  590.15  6165.33 -2518.73 -1846.7 -3665.70  1275.65\n",
       "743  2017-01-31 23:00:00  586.33  6893.40 -2648.03 -2588.8 -3189.62   946.72\n",
       "\n",
       "[744 rows x 7 columns]"
      ]
     },
     "execution_count": 10,
     "metadata": {},
     "output_type": "execute_result"
    }
   ],
   "source": [
    "df = pd.read_csv(\"imbalance.csv\")\n",
    "df\n",
    "# df.head()\n",
    "# df.tail()"
   ]
  },
  {
   "cell_type": "code",
   "execution_count": 11,
   "metadata": {},
   "outputs": [
    {
     "data": {
      "text/html": [
       "<div>\n",
       "<style scoped>\n",
       "    .dataframe tbody tr th:only-of-type {\n",
       "        vertical-align: middle;\n",
       "    }\n",
       "\n",
       "    .dataframe tbody tr th {\n",
       "        vertical-align: top;\n",
       "    }\n",
       "\n",
       "    .dataframe thead th {\n",
       "        text-align: right;\n",
       "    }\n",
       "</style>\n",
       "<table border=\"1\" class=\"dataframe\">\n",
       "  <thead>\n",
       "    <tr style=\"text-align: right;\">\n",
       "      <th></th>\n",
       "      <th>DK</th>\n",
       "      <th>DE</th>\n",
       "      <th>CH</th>\n",
       "      <th>IT</th>\n",
       "      <th>AT</th>\n",
       "      <th>CZ</th>\n",
       "    </tr>\n",
       "  </thead>\n",
       "  <tbody>\n",
       "    <tr>\n",
       "      <th>2017-01-01 00:00:00</th>\n",
       "      <td>-79.73</td>\n",
       "      <td>3486.25</td>\n",
       "      <td>-3403.37</td>\n",
       "      <td>-97.5</td>\n",
       "      <td>-2867.33</td>\n",
       "      <td>2961.68</td>\n",
       "    </tr>\n",
       "    <tr>\n",
       "      <th>2017-01-01 01:00:00</th>\n",
       "      <td>-109.14</td>\n",
       "      <td>4248.17</td>\n",
       "      <td>-3829.59</td>\n",
       "      <td>-105.9</td>\n",
       "      <td>-3149.98</td>\n",
       "      <td>2946.44</td>\n",
       "    </tr>\n",
       "    <tr>\n",
       "      <th>2017-01-01 02:00:00</th>\n",
       "      <td>-101.49</td>\n",
       "      <td>5314.56</td>\n",
       "      <td>-4131.66</td>\n",
       "      <td>-199.2</td>\n",
       "      <td>-3646.87</td>\n",
       "      <td>2764.66</td>\n",
       "    </tr>\n",
       "    <tr>\n",
       "      <th>2017-01-01 03:00:00</th>\n",
       "      <td>-197.96</td>\n",
       "      <td>5450.71</td>\n",
       "      <td>-4009.61</td>\n",
       "      <td>-656.0</td>\n",
       "      <td>-3345.56</td>\n",
       "      <td>2758.42</td>\n",
       "    </tr>\n",
       "    <tr>\n",
       "      <th>2017-01-01 04:00:00</th>\n",
       "      <td>-526.15</td>\n",
       "      <td>5695.72</td>\n",
       "      <td>-3924.43</td>\n",
       "      <td>-646.2</td>\n",
       "      <td>-3393.12</td>\n",
       "      <td>2794.18</td>\n",
       "    </tr>\n",
       "    <tr>\n",
       "      <th>...</th>\n",
       "      <td>...</td>\n",
       "      <td>...</td>\n",
       "      <td>...</td>\n",
       "      <td>...</td>\n",
       "      <td>...</td>\n",
       "      <td>...</td>\n",
       "    </tr>\n",
       "    <tr>\n",
       "      <th>2017-01-31 19:00:00</th>\n",
       "      <td>589.65</td>\n",
       "      <td>3452.07</td>\n",
       "      <td>-958.44</td>\n",
       "      <td>-1462.5</td>\n",
       "      <td>-2182.67</td>\n",
       "      <td>561.89</td>\n",
       "    </tr>\n",
       "    <tr>\n",
       "      <th>2017-01-31 20:00:00</th>\n",
       "      <td>592.88</td>\n",
       "      <td>5087.10</td>\n",
       "      <td>-1680.11</td>\n",
       "      <td>-2055.7</td>\n",
       "      <td>-2891.40</td>\n",
       "      <td>947.23</td>\n",
       "    </tr>\n",
       "    <tr>\n",
       "      <th>2017-01-31 21:00:00</th>\n",
       "      <td>595.62</td>\n",
       "      <td>5905.14</td>\n",
       "      <td>-2259.94</td>\n",
       "      <td>-1816.4</td>\n",
       "      <td>-3520.59</td>\n",
       "      <td>1096.17</td>\n",
       "    </tr>\n",
       "    <tr>\n",
       "      <th>2017-01-31 22:00:00</th>\n",
       "      <td>590.15</td>\n",
       "      <td>6165.33</td>\n",
       "      <td>-2518.73</td>\n",
       "      <td>-1846.7</td>\n",
       "      <td>-3665.70</td>\n",
       "      <td>1275.65</td>\n",
       "    </tr>\n",
       "    <tr>\n",
       "      <th>2017-01-31 23:00:00</th>\n",
       "      <td>586.33</td>\n",
       "      <td>6893.40</td>\n",
       "      <td>-2648.03</td>\n",
       "      <td>-2588.8</td>\n",
       "      <td>-3189.62</td>\n",
       "      <td>946.72</td>\n",
       "    </tr>\n",
       "  </tbody>\n",
       "</table>\n",
       "<p>744 rows × 6 columns</p>\n",
       "</div>"
      ],
      "text/plain": [
       "                         DK       DE       CH      IT       AT       CZ\n",
       "2017-01-01 00:00:00  -79.73  3486.25 -3403.37   -97.5 -2867.33  2961.68\n",
       "2017-01-01 01:00:00 -109.14  4248.17 -3829.59  -105.9 -3149.98  2946.44\n",
       "2017-01-01 02:00:00 -101.49  5314.56 -4131.66  -199.2 -3646.87  2764.66\n",
       "2017-01-01 03:00:00 -197.96  5450.71 -4009.61  -656.0 -3345.56  2758.42\n",
       "2017-01-01 04:00:00 -526.15  5695.72 -3924.43  -646.2 -3393.12  2794.18\n",
       "...                     ...      ...      ...     ...      ...      ...\n",
       "2017-01-31 19:00:00  589.65  3452.07  -958.44 -1462.5 -2182.67   561.89\n",
       "2017-01-31 20:00:00  592.88  5087.10 -1680.11 -2055.7 -2891.40   947.23\n",
       "2017-01-31 21:00:00  595.62  5905.14 -2259.94 -1816.4 -3520.59  1096.17\n",
       "2017-01-31 22:00:00  590.15  6165.33 -2518.73 -1846.7 -3665.70  1275.65\n",
       "2017-01-31 23:00:00  586.33  6893.40 -2648.03 -2588.8 -3189.62   946.72\n",
       "\n",
       "[744 rows x 6 columns]"
      ]
     },
     "execution_count": 11,
     "metadata": {},
     "output_type": "execute_result"
    }
   ],
   "source": [
    "# convert the column (it's a string) to datetime type\n",
    "datetime_series = pd.to_datetime(df['DateTime'])\n",
    "\n",
    "# create datetime index passing the datetime series\n",
    "datetime_index = pd.DatetimeIndex(datetime_series.values)\n",
    "\n",
    "df1=df.set_index(datetime_index)\n",
    "\n",
    "# we don't need the column anymore\n",
    "df1.drop('DateTime',axis=1,inplace=True)\n",
    "\n",
    "df1"
   ]
  },
  {
   "cell_type": "markdown",
   "metadata": {},
   "source": [
    "### 5.1 The values of $\\theta_j$ for the first hour of January 1, 2017. For this, we will make the assumption that $\\theta_0=0$.\n",
    "\n",
    "We have to solve a system of six linear equations and six variables ($\\Theta$) given by $$L \\Theta = P,$$\n",
    "\n",
    "where $\\Theta = (\\theta_0=0, \\theta_1, \\theta_2, \\theta_3, \\theta_4, \\theta_5)^T$ and $P = (p_0, p_1,p_2,p_3,p_4,p_5)^T$ (we consider $p_j$ as the power imbalance given in the data with $j=0,...,5$ correspond to the nodes/countries). Since $\\theta_0=0$ is given, we will end up with a system of six linear equations and five variables which leads us to use least square method to solve it. \n",
    "\n",
    "Hence, \n",
    "\n",
    "$$L_{new} \\Theta_{new} = P$$\\\n",
    "$$\\Theta_{new} = (L_{new}^T * L_{new})^{-1} * L_{new}^T * P,$$\n",
    "\n",
    "where $L_{new}$ is given by removing/deleting the first column of Laplacian matrix (L) and $\\Theta_{new}=(\\theta_1, \\theta_2, \\theta_3, \\theta_4, \\theta_5)^T$. "
   ]
  },
  {
   "cell_type": "code",
   "execution_count": 12,
   "metadata": {},
   "outputs": [
    {
     "name": "stdout",
     "output_type": "stream",
     "text": [
      "The values of theta are:\n",
      "\n",
      " [    0.            79.73       -2302.97857143 -1995.25809524\n",
      " -1590.03761905   725.68619048]\n"
     ]
    }
   ],
   "source": [
    "L_new = np.delete(L,0,1) # We need to delete the first column of the Laplacian matrix since it will be multiplied by theta_0 = 0. \n",
    "\n",
    "P = df1.iloc[0].values # Extracting the first low coresponding with the first hour of January 1, 2017 (2017-01-01 00:00:00)\n",
    "\n",
    "Theta_new = np.linalg.inv(L_new.T @ L_new) @ L_new.T @ P\n",
    "\n",
    "Theta = np.insert(Theta_new, 0, 0) # Inserting theta_zero in the theta values\n",
    "\n",
    "print(\"The values of theta are:\\n\\n\", Theta)"
   ]
  },
  {
   "cell_type": "markdown",
   "metadata": {},
   "source": [
    "### 5.2 The values of $f$ for the first hour of January 1, 2017.\n",
    "\n",
    "$$f_l = \\sum_i K_{i,l}\\theta_i,$$\n",
    "\n",
    "this implies that $$f = K^T * \\Theta.$$"
   ]
  },
  {
   "cell_type": "code",
   "execution_count": 13,
   "metadata": {},
   "outputs": [
    {
     "name": "stdout",
     "output_type": "stream",
     "text": [
      "The values of f are:\n",
      "\n",
      " [  -79.73        2382.70857143  1669.76761905  -645.95619048\n",
      "  -307.72047619  -712.94095238  -405.22047619 -2315.72380952]\n"
     ]
    }
   ],
   "source": [
    "f = K.T @ Theta\n",
    "\n",
    "print(\"The values of f are:\\n\\n\", f)"
   ]
  },
  {
   "cell_type": "markdown",
   "metadata": {},
   "source": [
    "## 6. Determine the average power flow between countries over the month of January 2017."
   ]
  },
  {
   "cell_type": "code",
   "execution_count": 14,
   "metadata": {},
   "outputs": [
    {
     "data": {
      "text/html": [
       "<div>\n",
       "<style scoped>\n",
       "    .dataframe tbody tr th:only-of-type {\n",
       "        vertical-align: middle;\n",
       "    }\n",
       "\n",
       "    .dataframe tbody tr th {\n",
       "        vertical-align: top;\n",
       "    }\n",
       "\n",
       "    .dataframe thead th {\n",
       "        text-align: right;\n",
       "    }\n",
       "</style>\n",
       "<table border=\"1\" class=\"dataframe\">\n",
       "  <thead>\n",
       "    <tr style=\"text-align: right;\">\n",
       "      <th></th>\n",
       "      <th>From Country</th>\n",
       "      <th>To country</th>\n",
       "      <th>AvPowerFlow(Jan2017)</th>\n",
       "    </tr>\n",
       "  </thead>\n",
       "  <tbody>\n",
       "    <tr>\n",
       "      <th>0</th>\n",
       "      <td>DK</td>\n",
       "      <td>DE</td>\n",
       "      <td>451.02</td>\n",
       "    </tr>\n",
       "    <tr>\n",
       "      <th>1</th>\n",
       "      <td>DE</td>\n",
       "      <td>CH</td>\n",
       "      <td>2402.42</td>\n",
       "    </tr>\n",
       "    <tr>\n",
       "      <th>2</th>\n",
       "      <td>DE</td>\n",
       "      <td>AT</td>\n",
       "      <td>2124.95</td>\n",
       "    </tr>\n",
       "    <tr>\n",
       "      <th>3</th>\n",
       "      <td>DE</td>\n",
       "      <td>CZ</td>\n",
       "      <td>426.47</td>\n",
       "    </tr>\n",
       "    <tr>\n",
       "      <th>4</th>\n",
       "      <td>CH</td>\n",
       "      <td>IT</td>\n",
       "      <td>421.12</td>\n",
       "    </tr>\n",
       "    <tr>\n",
       "      <th>5</th>\n",
       "      <td>CH</td>\n",
       "      <td>AT</td>\n",
       "      <td>-277.47</td>\n",
       "    </tr>\n",
       "    <tr>\n",
       "      <th>6</th>\n",
       "      <td>IT</td>\n",
       "      <td>AT</td>\n",
       "      <td>-698.59</td>\n",
       "    </tr>\n",
       "    <tr>\n",
       "      <th>7</th>\n",
       "      <td>AT</td>\n",
       "      <td>CZ</td>\n",
       "      <td>-1698.48</td>\n",
       "    </tr>\n",
       "  </tbody>\n",
       "</table>\n",
       "</div>"
      ],
      "text/plain": [
       "  From Country To country  AvPowerFlow(Jan2017)\n",
       "0           DK         DE                451.02\n",
       "1           DE         CH               2402.42\n",
       "2           DE         AT               2124.95\n",
       "3           DE         CZ                426.47\n",
       "4           CH         IT                421.12\n",
       "5           CH         AT               -277.47\n",
       "6           IT         AT               -698.59\n",
       "7           AT         CZ              -1698.48"
      ]
     },
     "execution_count": 14,
     "metadata": {},
     "output_type": "execute_result"
    }
   ],
   "source": [
    "def power_flow(data):\n",
    "    \n",
    "    # convert the column (it's a string) to datetime type\n",
    "    datetime_series = pd.to_datetime(data['DateTime'])\n",
    "\n",
    "    # create datetime index passing the datetime series\n",
    "    datetime_index = pd.DatetimeIndex(datetime_series.values)\n",
    "\n",
    "    df2 = data.set_index(datetime_index)\n",
    "\n",
    "    # we don't need the column anymore\n",
    "    df2.drop('DateTime',axis=1,inplace=True)\n",
    "\n",
    "    fl = []\n",
    "    for row in range(len(df2.index)):\n",
    "\n",
    "        p_row = df2.iloc[row,: ].values\n",
    "        \n",
    "        Theta_new = np.linalg.inv(L_new.T @ L_new) @ L_new.T @ p_row\n",
    "        \n",
    "        Theta = np.insert(Theta_new, 0, 0) \n",
    "        \n",
    "        Power_Flow = list(K.T @ Theta)\n",
    "        fl.append(Power_Flow)\n",
    "    Fl = np.array(fl)\n",
    "    Mean_Power_flow = np.around(np.mean(Fl, axis=0), decimals=2)\n",
    "\n",
    "    for k, edge in enumerate(graph.edges): \n",
    "\n",
    "        i, j = edge\n",
    "#         print(\"The average power flow between country \",i,\" and country \",j,\n",
    "#               \" over the month of January 2017 is \",Mean_Power_flow[k])\n",
    "\n",
    "    return Mean_Power_flow\n",
    "\n",
    "data = df\n",
    "\n",
    "Mean_power_flow = power_flow(data)\n",
    "\n",
    "AvPf_df = pd.DataFrame({'From Country':['DK','DE','DE','DE','CH','CH','IT','AT'],\n",
    "                        'To country':['DE','CH','AT','CZ','IT','AT','AT','CZ'],\n",
    "                        'AvPowerFlow(Jan2017)':Mean_power_flow})\n",
    "AvPf_df"
   ]
  },
  {
   "cell_type": "markdown",
   "metadata": {},
   "source": [
    "# Bonus\n",
    "\n",
    "### For information there is what is needed in python to very easily pieces of map at random europe and draw information on it….\n",
    "\n",
    "## It can't be possible to bring map because our data have not longitude and latitude.\n"
   ]
  },
  {
   "cell_type": "code",
   "execution_count": 15,
   "metadata": {},
   "outputs": [
    {
     "data": {
      "image/png": "[encoded data removed]",
      "text/plain": [
       "<Figure size 864x576 with 1 Axes>"
      ]
     },
     "metadata": {},
     "output_type": "display_data"
    }
   ],
   "source": [
    "DG = nx.DiGraph(directed=True)\n",
    "\n",
    "weights = Mean_power_flow\n",
    "\n",
    "Edges = [('DK','DE'), ('DE','CH'), ('DE','AT'), ('DE','CZ'), ('CH','IT'), \n",
    "         ('CH','AT'), ('IT','AT'), ('AT','CZ')]\n",
    "\n",
    "for k, edge in enumerate(Edges): \n",
    "    i, j = edge\n",
    "    DG.add_edge(i, j, weight=weights[k])\n",
    "\n",
    "elarge = [(u, v) for (u, v, d) in DG.edges(data=True) if d[\"weight\"] > 0]\n",
    "esmall = [(u, v) for (u, v, d) in DG.edges(data=True) if d[\"weight\"] <= 0]\n",
    "\n",
    "\n",
    "plt.figure(figsize=(12,8))\n",
    "# pos = nx.spring_layout(DG)  # positions for all nodes - seed for reproducibility\n",
    "pos={'DK': np.array([9, 15]),'DE': np.array([3,5]),'CH': np.array([-6, -10]), \n",
    "     'IT': np.array([3,-20]), 'AT': np.array([10,-10]), 'CZ': np.array([20,5])}\n",
    "# print(pos)\n",
    "\n",
    "# nodes\n",
    "nx.draw_networkx_nodes(DG, pos, node_size=500, node_color='g')\n",
    "\n",
    "# edges\n",
    "nx.draw_networkx_edges(DG, pos, edgelist=elarge, width=5, edge_color=\"b\")\n",
    "nx.draw_networkx_edges(DG, pos, width=5, edgelist=esmall, alpha=0.9, \n",
    "                       edge_color=\"r\", style=\"dashed\")\n",
    "\n",
    "# node labels\n",
    "nx.draw_networkx_labels(DG, pos, font_size=15)\n",
    "\n",
    "# edge weight labels\n",
    "edge_labels = nx.get_edge_attributes(DG, \"weight\")\n",
    "\n",
    "nx.draw_networkx_edge_labels(DG, pos, edge_labels)\n",
    "\n",
    "ax = plt.gca()\n",
    "# ax.margins(0.001)\n",
    "plt.title(\"Graph of average power flow between countries over the month of January 2017.\")\n",
    "plt.axis(\"off\")\n",
    "plt.tight_layout()\n",
    "plt.show()"
   ]
  },
  {
   "cell_type": "code",
   "execution_count": 16,
   "metadata": {},
   "outputs": [
    {
     "data": {
      "image/png": "[encoded data removed]",
      "text/plain": [
       "<Figure size 864x576 with 1 Axes>"
      ]
     },
     "metadata": {},
     "output_type": "display_data"
    }
   ],
   "source": [
    "weight = [str(2*i/500) for i in list(AvPf_df['AvPowerFlow(Jan2017)'].values)]\n",
    "\n",
    "df_wdg = pd.DataFrame({'From Country':['DK','DE','DE','DE','CH','CH','IT','AT'],\n",
    "                       'To Country':['DE','CH','AT','CZ','IT','AT','AT','CZ'],'weight':weight})\n",
    "\n",
    "\n",
    "G=nx.from_pandas_edgelist(df_wdg, 'From Country', 'To Country', edge_attr='weight', \n",
    "                          create_using=nx.DiGraph())\n",
    "\n",
    "\n",
    "widths = nx.get_edge_attributes(G, 'weight')\n",
    "\n",
    "nodelist = G.nodes()\n",
    "\n",
    "d = [float(x) for x in list(widths.values())]\n",
    "\n",
    "for k, edge in enumerate(G.edges): \n",
    "    node1, node2 = edge\n",
    "    G.add_edge(node1, node2, weight=d[k])\n",
    "\n",
    "elarge = [(u, v) for (u, v, d) in G.edges(data=True) if d['weight'] > 0]\n",
    "esmall = [(u, v) for (u, v, d) in G.edges(data=True) if d['weight'] <= 0]\n",
    "\n",
    "\n",
    "plt.figure(figsize=(12,8))\n",
    "\n",
    "nx.draw_networkx_edge_labels(DG, pos, edge_labels)\n",
    "\n",
    "\n",
    "# pos = nx.shell_layout(G)\n",
    "pos={'DK': np.array([9, 15]),'DE': np.array([3,5]),'CH': np.array([-6, -10]), 'IT': np.array([3,-20]),\n",
    "     'AT': np.array([10,-10]), 'CZ': np.array([20,5])}\n",
    "\n",
    "# nodes\n",
    "nx.draw_networkx_nodes(G, pos, node_size=500, node_color='g')\n",
    "\n",
    "\n",
    "nx.draw_networkx_edges(G,pos,edgelist =elarge , width=list(widths.values()),edge_color='b',alpha=1)\n",
    "nx.draw_networkx_edges(G,pos,edgelist =esmall , width=list(widths.values()),edge_color='r',alpha=1, \n",
    "                       style=\"dashed\") \n",
    "\n",
    "nx.draw_networkx_labels(G, pos=pos,labels=dict(zip(nodelist,nodelist)),font_color='r')\n",
    "\n",
    "# plt.box(False)\n",
    "ax = plt.gca()\n",
    "# ax.margins(0.001)\n",
    "plt.title(\"Graph of average power flow between countries over the month of January 2017.\")\n",
    "plt.axis(\"off\")\n",
    "plt.tight_layout()\n",
    "plt.show()"
   ]
  },
  {
   "cell_type": "code",
   "execution_count": null,
   "metadata": {},
   "outputs": [],
   "source": []
  },
  {
   "cell_type": "code",
   "execution_count": null,
   "metadata": {},
   "outputs": [],
   "source": []
  }
 ],
 "metadata": {
  "kernelspec": {
   "display_name": "Python 3",
   "language": "python",
   "name": "python3"
  },
  "language_info": {
   "codemirror_mode": {
    "name": "ipython",
    "version": 3
   },
   "file_extension": ".py",
   "mimetype": "text/x-python",
   "name": "python",
   "nbconvert_exporter": "python",
   "pygments_lexer": "ipython3",
   "version": "3.7.6"
  }
 },
 "nbformat": 4,
 "nbformat_minor": 5
}
